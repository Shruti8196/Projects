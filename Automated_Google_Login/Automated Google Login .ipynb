{
 "cells": [
  {
   "cell_type": "markdown",
   "metadata": {},
   "source": [
    "### Automated Google Login \n",
    "\n",
    "Using Selenium"
   ]
  },
  {
   "cell_type": "code",
   "execution_count": null,
   "metadata": {},
   "outputs": [],
   "source": [
    "from selenium import webdriver\n",
    "from bs4 import BeautifulSoup\n",
    "from selenium.webdriver.common.keys import Keys\n",
    "import time\n",
    "\n",
    "# Google Sign In URL\n",
    "url = \"https://accounts.google.com/ServiceLogin/identifier?elo=1&flowName=GlifWebSignIn&flowEntry=ServiceLogin\"\n",
    "driver = webdriver.Chrome(executable_path=r\"C:\\Users\\shrut\\Downloads\\chromedriver.exe\")\n",
    "driver.get(url)\n",
    "\n",
    "# Finding the Email Field\n",
    "email_entry=driver.find_element_by_id(\"identifierId\")\n",
    "email_entry.send_keys(\"180420107532.co18s2@scet.ac.in\")\n",
    "\n",
    "# NEXT Page\n",
    "n = driver.find_element_by_xpath(\"//*[@id='identifierNext']/div/button\")\n",
    "time.sleep(2)\n",
    "n.click()\n",
    "time.sleep(2)\n",
    "\n",
    "# Finding the Password Field\n",
    "password_entry=driver.find_element_by_name(\"password\")\n",
    "password_entry.send_keys(\"your password goes here\")\n",
    "\n",
    "# NEXT to complete sign in\n",
    "n1 = driver.find_element_by_xpath(\"//*[@id='passwordNext']/div/button\")\n",
    "time.sleep(2)\n",
    "n1.click()\n",
    "time.sleep(2)"
   ]
  }
 ],
 "metadata": {
  "kernelspec": {
   "display_name": "Python 3",
   "language": "python",
   "name": "python3"
  },
  "language_info": {
   "codemirror_mode": {
    "name": "ipython",
    "version": 3
   },
   "file_extension": ".py",
   "mimetype": "text/x-python",
   "name": "python",
   "nbconvert_exporter": "python",
   "pygments_lexer": "ipython3",
   "version": "3.7.9"
  }
 },
 "nbformat": 4,
 "nbformat_minor": 4
}
