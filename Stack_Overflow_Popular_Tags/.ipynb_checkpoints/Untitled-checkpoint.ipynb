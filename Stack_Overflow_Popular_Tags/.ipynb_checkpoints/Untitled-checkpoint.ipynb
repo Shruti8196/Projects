{
 "cells": [
  {
   "cell_type": "code",
   "execution_count": 44,
   "metadata": {},
   "outputs": [],
   "source": [
    "def scrape_SO_tags():\n",
    "    \n",
    "    site= \"https://stackoverflow.com/tags?tab=popular\"\n",
    "    hdr = {'User-Agent': 'Mozilla/5.0'}\n",
    "    req = Request(site,headers=hdr)\n",
    "    page = urlopen(req)\n",
    "    soup = BeautifulSoup(page)\n",
    "    \n",
    "    #Getting data into a dictionary\n",
    "    dictionary={\"Tag Name\":[],\"Tag_Count\":[], \"Asked_Today\":[], \"Asked_This_Week\":[]}\n",
    "    \n",
    "    #Extracting The Popular Tags\n",
    "    for tag in soup.find_all(\"a\",class_=\"post-tag\"): \n",
    "        dictionary[\"Tag Name\"].append(tag.text)\n",
    "    \n",
    "    #Extracting The Counts\n",
    "    for tag_count in soup.find_all(\"div\",class_=\"mt-auto grid jc-space-between fs-caption fc-black-400\"):\n",
    "        \n",
    "        \n",
    "        x=tag_count.text\n",
    "        string_split=x.split()\n",
    "\n",
    "        #Getting the Tag_Count\n",
    "        dictionary[\"Tag_Count\"].append(int(string_split[0]))\n",
    "        \n",
    "        #Questions asked today with this tag\n",
    "        dictionary[\"Asked_Today\"].append((string_split[2]))\n",
    "        \n",
    "        #Questions asked over a week with this tag\n",
    "        dictionary[\"Asked_This_Week\"].append(int(string_split[5]))\n",
    " \n",
    "    \n",
    "    #Returning a DataFrame\n",
    "    return pd.DataFrame(dictionary)"
   ]
  },
  {
   "cell_type": "code",
   "execution_count": 47,
   "metadata": {},
   "outputs": [],
   "source": [
    "df=scrape_SO_tags()\n",
    "df.to_csv(\"Popular_SO_Tags.csv\")"
   ]
  },
  {
   "cell_type": "code",
   "execution_count": null,
   "metadata": {},
   "outputs": [],
   "source": []
  },
  {
   "cell_type": "code",
   "execution_count": null,
   "metadata": {},
   "outputs": [],
   "source": []
  }
 ],
 "metadata": {
  "kernelspec": {
   "display_name": "Python 3",
   "language": "python",
   "name": "python3"
  },
  "language_info": {
   "codemirror_mode": {
    "name": "ipython",
    "version": 3
   },
   "file_extension": ".py",
   "mimetype": "text/x-python",
   "name": "python",
   "nbconvert_exporter": "python",
   "pygments_lexer": "ipython3",
   "version": "3.7.9"
  }
 },
 "nbformat": 4,
 "nbformat_minor": 5
}
